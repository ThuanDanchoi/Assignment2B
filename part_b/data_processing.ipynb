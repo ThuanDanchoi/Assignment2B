{
 "cells": [
  {
   "cell_type": "code",
   "execution_count": 1,
   "id": "initial_id",
   "metadata": {
    "collapsed": true,
    "ExecuteTime": {
     "end_time": "2025-05-19T02:40:15.173266Z",
     "start_time": "2025-05-19T02:40:14.344011Z"
    }
   },
   "outputs": [
    {
     "name": "stderr",
     "output_type": "stream",
     "text": [
      "\n",
      "A module that was compiled using NumPy 1.x cannot be run in\n",
      "NumPy 2.1.3 as it may crash. To support both 1.x and 2.x\n",
      "versions of NumPy, modules must be compiled with NumPy 2.0.\n",
      "Some module may need to rebuild instead e.g. with 'pybind11>=2.12'.\n",
      "\n",
      "If you are a user of the module, the easiest solution will be to\n",
      "downgrade to 'numpy<2' or try to upgrade the affected module.\n",
      "We expect that some modules will need time to support NumPy 2.\n",
      "\n",
      "Traceback (most recent call last):  File \"/opt/anaconda3/lib/python3.12/runpy.py\", line 198, in _run_module_as_main\n",
      "    return _run_code(code, main_globals, None,\n",
      "  File \"/opt/anaconda3/lib/python3.12/runpy.py\", line 88, in _run_code\n",
      "    exec(code, run_globals)\n",
      "  File \"/opt/anaconda3/lib/python3.12/site-packages/ipykernel_launcher.py\", line 18, in <module>\n",
      "    app.launch_new_instance()\n",
      "  File \"/opt/anaconda3/lib/python3.12/site-packages/traitlets/config/application.py\", line 1075, in launch_instance\n",
      "    app.start()\n",
      "  File \"/opt/anaconda3/lib/python3.12/site-packages/ipykernel/kernelapp.py\", line 739, in start\n",
      "    self.io_loop.start()\n",
      "  File \"/opt/anaconda3/lib/python3.12/site-packages/tornado/platform/asyncio.py\", line 205, in start\n",
      "    self.asyncio_loop.run_forever()\n",
      "  File \"/opt/anaconda3/lib/python3.12/asyncio/base_events.py\", line 639, in run_forever\n",
      "    self._run_once()\n",
      "  File \"/opt/anaconda3/lib/python3.12/asyncio/base_events.py\", line 1985, in _run_once\n",
      "    handle._run()\n",
      "  File \"/opt/anaconda3/lib/python3.12/asyncio/events.py\", line 88, in _run\n",
      "    self._context.run(self._callback, *self._args)\n",
      "  File \"/opt/anaconda3/lib/python3.12/site-packages/ipykernel/kernelbase.py\", line 545, in dispatch_queue\n",
      "    await self.process_one()\n",
      "  File \"/opt/anaconda3/lib/python3.12/site-packages/ipykernel/kernelbase.py\", line 534, in process_one\n",
      "    await dispatch(*args)\n",
      "  File \"/opt/anaconda3/lib/python3.12/site-packages/ipykernel/kernelbase.py\", line 437, in dispatch_shell\n",
      "    await result\n",
      "  File \"/opt/anaconda3/lib/python3.12/site-packages/ipykernel/ipkernel.py\", line 362, in execute_request\n",
      "    await super().execute_request(stream, ident, parent)\n",
      "  File \"/opt/anaconda3/lib/python3.12/site-packages/ipykernel/kernelbase.py\", line 778, in execute_request\n",
      "    reply_content = await reply_content\n",
      "  File \"/opt/anaconda3/lib/python3.12/site-packages/ipykernel/ipkernel.py\", line 449, in do_execute\n",
      "    res = shell.run_cell(\n",
      "  File \"/opt/anaconda3/lib/python3.12/site-packages/ipykernel/zmqshell.py\", line 549, in run_cell\n",
      "    return super().run_cell(*args, **kwargs)\n",
      "  File \"/opt/anaconda3/lib/python3.12/site-packages/IPython/core/interactiveshell.py\", line 3075, in run_cell\n",
      "    result = self._run_cell(\n",
      "  File \"/opt/anaconda3/lib/python3.12/site-packages/IPython/core/interactiveshell.py\", line 3130, in _run_cell\n",
      "    result = runner(coro)\n",
      "  File \"/opt/anaconda3/lib/python3.12/site-packages/IPython/core/async_helpers.py\", line 129, in _pseudo_sync_runner\n",
      "    coro.send(None)\n",
      "  File \"/opt/anaconda3/lib/python3.12/site-packages/IPython/core/interactiveshell.py\", line 3334, in run_cell_async\n",
      "    has_raised = await self.run_ast_nodes(code_ast.body, cell_name,\n",
      "  File \"/opt/anaconda3/lib/python3.12/site-packages/IPython/core/interactiveshell.py\", line 3517, in run_ast_nodes\n",
      "    if await self.run_code(code, result, async_=asy):\n",
      "  File \"/opt/anaconda3/lib/python3.12/site-packages/IPython/core/interactiveshell.py\", line 3577, in run_code\n",
      "    exec(code_obj, self.user_global_ns, self.user_ns)\n",
      "  File \"/var/folders/yr/mm0xskxn61jfrkxwp3y0mc7w0000gn/T/ipykernel_44524/517995210.py\", line 1, in <module>\n",
      "    import pandas as pd\n",
      "  File \"/opt/anaconda3/lib/python3.12/site-packages/pandas/__init__.py\", line 49, in <module>\n",
      "    from pandas.core.api import (\n",
      "  File \"/opt/anaconda3/lib/python3.12/site-packages/pandas/core/api.py\", line 28, in <module>\n",
      "    from pandas.core.arrays import Categorical\n",
      "  File \"/opt/anaconda3/lib/python3.12/site-packages/pandas/core/arrays/__init__.py\", line 1, in <module>\n",
      "    from pandas.core.arrays.arrow import ArrowExtensionArray\n",
      "  File \"/opt/anaconda3/lib/python3.12/site-packages/pandas/core/arrays/arrow/__init__.py\", line 5, in <module>\n",
      "    from pandas.core.arrays.arrow.array import ArrowExtensionArray\n",
      "  File \"/opt/anaconda3/lib/python3.12/site-packages/pandas/core/arrays/arrow/array.py\", line 50, in <module>\n",
      "    from pandas.core import (\n",
      "  File \"/opt/anaconda3/lib/python3.12/site-packages/pandas/core/ops/__init__.py\", line 8, in <module>\n",
      "    from pandas.core.ops.array_ops import (\n",
      "  File \"/opt/anaconda3/lib/python3.12/site-packages/pandas/core/ops/array_ops.py\", line 56, in <module>\n",
      "    from pandas.core.computation import expressions\n",
      "  File \"/opt/anaconda3/lib/python3.12/site-packages/pandas/core/computation/expressions.py\", line 21, in <module>\n",
      "    from pandas.core.computation.check import NUMEXPR_INSTALLED\n",
      "  File \"/opt/anaconda3/lib/python3.12/site-packages/pandas/core/computation/check.py\", line 5, in <module>\n",
      "    ne = import_optional_dependency(\"numexpr\", errors=\"warn\")\n",
      "  File \"/opt/anaconda3/lib/python3.12/site-packages/pandas/compat/_optional.py\", line 135, in import_optional_dependency\n",
      "    module = importlib.import_module(name)\n",
      "  File \"/opt/anaconda3/lib/python3.12/importlib/__init__.py\", line 90, in import_module\n",
      "    return _bootstrap._gcd_import(name[level:], package, level)\n",
      "  File \"/opt/anaconda3/lib/python3.12/site-packages/numexpr/__init__.py\", line 24, in <module>\n",
      "    from numexpr.interpreter import MAX_THREADS, use_vml, __BLOCK_SIZE1__\n"
     ]
    },
    {
     "ename": "AttributeError",
     "evalue": "_ARRAY_API not found",
     "output_type": "error",
     "traceback": [
      "\u001B[0;31m---------------------------------------------------------------------------\u001B[0m",
      "\u001B[0;31mAttributeError\u001B[0m                            Traceback (most recent call last)",
      "\u001B[0;31mAttributeError\u001B[0m: _ARRAY_API not found"
     ]
    },
    {
     "name": "stderr",
     "output_type": "stream",
     "text": [
      "\n",
      "A module that was compiled using NumPy 1.x cannot be run in\n",
      "NumPy 2.1.3 as it may crash. To support both 1.x and 2.x\n",
      "versions of NumPy, modules must be compiled with NumPy 2.0.\n",
      "Some module may need to rebuild instead e.g. with 'pybind11>=2.12'.\n",
      "\n",
      "If you are a user of the module, the easiest solution will be to\n",
      "downgrade to 'numpy<2' or try to upgrade the affected module.\n",
      "We expect that some modules will need time to support NumPy 2.\n",
      "\n",
      "Traceback (most recent call last):  File \"/opt/anaconda3/lib/python3.12/runpy.py\", line 198, in _run_module_as_main\n",
      "    return _run_code(code, main_globals, None,\n",
      "  File \"/opt/anaconda3/lib/python3.12/runpy.py\", line 88, in _run_code\n",
      "    exec(code, run_globals)\n",
      "  File \"/opt/anaconda3/lib/python3.12/site-packages/ipykernel_launcher.py\", line 18, in <module>\n",
      "    app.launch_new_instance()\n",
      "  File \"/opt/anaconda3/lib/python3.12/site-packages/traitlets/config/application.py\", line 1075, in launch_instance\n",
      "    app.start()\n",
      "  File \"/opt/anaconda3/lib/python3.12/site-packages/ipykernel/kernelapp.py\", line 739, in start\n",
      "    self.io_loop.start()\n",
      "  File \"/opt/anaconda3/lib/python3.12/site-packages/tornado/platform/asyncio.py\", line 205, in start\n",
      "    self.asyncio_loop.run_forever()\n",
      "  File \"/opt/anaconda3/lib/python3.12/asyncio/base_events.py\", line 639, in run_forever\n",
      "    self._run_once()\n",
      "  File \"/opt/anaconda3/lib/python3.12/asyncio/base_events.py\", line 1985, in _run_once\n",
      "    handle._run()\n",
      "  File \"/opt/anaconda3/lib/python3.12/asyncio/events.py\", line 88, in _run\n",
      "    self._context.run(self._callback, *self._args)\n",
      "  File \"/opt/anaconda3/lib/python3.12/site-packages/ipykernel/kernelbase.py\", line 545, in dispatch_queue\n",
      "    await self.process_one()\n",
      "  File \"/opt/anaconda3/lib/python3.12/site-packages/ipykernel/kernelbase.py\", line 534, in process_one\n",
      "    await dispatch(*args)\n",
      "  File \"/opt/anaconda3/lib/python3.12/site-packages/ipykernel/kernelbase.py\", line 437, in dispatch_shell\n",
      "    await result\n",
      "  File \"/opt/anaconda3/lib/python3.12/site-packages/ipykernel/ipkernel.py\", line 362, in execute_request\n",
      "    await super().execute_request(stream, ident, parent)\n",
      "  File \"/opt/anaconda3/lib/python3.12/site-packages/ipykernel/kernelbase.py\", line 778, in execute_request\n",
      "    reply_content = await reply_content\n",
      "  File \"/opt/anaconda3/lib/python3.12/site-packages/ipykernel/ipkernel.py\", line 449, in do_execute\n",
      "    res = shell.run_cell(\n",
      "  File \"/opt/anaconda3/lib/python3.12/site-packages/ipykernel/zmqshell.py\", line 549, in run_cell\n",
      "    return super().run_cell(*args, **kwargs)\n",
      "  File \"/opt/anaconda3/lib/python3.12/site-packages/IPython/core/interactiveshell.py\", line 3075, in run_cell\n",
      "    result = self._run_cell(\n",
      "  File \"/opt/anaconda3/lib/python3.12/site-packages/IPython/core/interactiveshell.py\", line 3130, in _run_cell\n",
      "    result = runner(coro)\n",
      "  File \"/opt/anaconda3/lib/python3.12/site-packages/IPython/core/async_helpers.py\", line 129, in _pseudo_sync_runner\n",
      "    coro.send(None)\n",
      "  File \"/opt/anaconda3/lib/python3.12/site-packages/IPython/core/interactiveshell.py\", line 3334, in run_cell_async\n",
      "    has_raised = await self.run_ast_nodes(code_ast.body, cell_name,\n",
      "  File \"/opt/anaconda3/lib/python3.12/site-packages/IPython/core/interactiveshell.py\", line 3517, in run_ast_nodes\n",
      "    if await self.run_code(code, result, async_=asy):\n",
      "  File \"/opt/anaconda3/lib/python3.12/site-packages/IPython/core/interactiveshell.py\", line 3577, in run_code\n",
      "    exec(code_obj, self.user_global_ns, self.user_ns)\n",
      "  File \"/var/folders/yr/mm0xskxn61jfrkxwp3y0mc7w0000gn/T/ipykernel_44524/517995210.py\", line 1, in <module>\n",
      "    import pandas as pd\n",
      "  File \"/opt/anaconda3/lib/python3.12/site-packages/pandas/__init__.py\", line 49, in <module>\n",
      "    from pandas.core.api import (\n",
      "  File \"/opt/anaconda3/lib/python3.12/site-packages/pandas/core/api.py\", line 28, in <module>\n",
      "    from pandas.core.arrays import Categorical\n",
      "  File \"/opt/anaconda3/lib/python3.12/site-packages/pandas/core/arrays/__init__.py\", line 1, in <module>\n",
      "    from pandas.core.arrays.arrow import ArrowExtensionArray\n",
      "  File \"/opt/anaconda3/lib/python3.12/site-packages/pandas/core/arrays/arrow/__init__.py\", line 5, in <module>\n",
      "    from pandas.core.arrays.arrow.array import ArrowExtensionArray\n",
      "  File \"/opt/anaconda3/lib/python3.12/site-packages/pandas/core/arrays/arrow/array.py\", line 64, in <module>\n",
      "    from pandas.core.arrays.masked import BaseMaskedArray\n",
      "  File \"/opt/anaconda3/lib/python3.12/site-packages/pandas/core/arrays/masked.py\", line 60, in <module>\n",
      "    from pandas.core import (\n",
      "  File \"/opt/anaconda3/lib/python3.12/site-packages/pandas/core/nanops.py\", line 52, in <module>\n",
      "    bn = import_optional_dependency(\"bottleneck\", errors=\"warn\")\n",
      "  File \"/opt/anaconda3/lib/python3.12/site-packages/pandas/compat/_optional.py\", line 135, in import_optional_dependency\n",
      "    module = importlib.import_module(name)\n",
      "  File \"/opt/anaconda3/lib/python3.12/importlib/__init__.py\", line 90, in import_module\n",
      "    return _bootstrap._gcd_import(name[level:], package, level)\n",
      "  File \"/opt/anaconda3/lib/python3.12/site-packages/bottleneck/__init__.py\", line 7, in <module>\n",
      "    from .move import (move_argmax, move_argmin, move_max, move_mean, move_median,\n"
     ]
    },
    {
     "ename": "ImportError",
     "evalue": "\nA module that was compiled using NumPy 1.x cannot be run in\nNumPy 2.1.3 as it may crash. To support both 1.x and 2.x\nversions of NumPy, modules must be compiled with NumPy 2.0.\nSome module may need to rebuild instead e.g. with 'pybind11>=2.12'.\n\nIf you are a user of the module, the easiest solution will be to\ndowngrade to 'numpy<2' or try to upgrade the affected module.\nWe expect that some modules will need time to support NumPy 2.\n\n",
     "output_type": "error",
     "traceback": [
      "\u001B[0;31m---------------------------------------------------------------------------\u001B[0m",
      "\u001B[0;31mImportError\u001B[0m                               Traceback (most recent call last)",
      "File \u001B[0;32m/opt/anaconda3/lib/python3.12/site-packages/numpy/core/_multiarray_umath.py:44\u001B[0m, in \u001B[0;36m__getattr__\u001B[0;34m(attr_name)\u001B[0m\n\u001B[1;32m     39\u001B[0m     \u001B[38;5;66;03m# Also print the message (with traceback).  This is because old versions\u001B[39;00m\n\u001B[1;32m     40\u001B[0m     \u001B[38;5;66;03m# of NumPy unfortunately set up the import to replace (and hide) the\u001B[39;00m\n\u001B[1;32m     41\u001B[0m     \u001B[38;5;66;03m# error.  The traceback shouldn't be needed, but e.g. pytest plugins\u001B[39;00m\n\u001B[1;32m     42\u001B[0m     \u001B[38;5;66;03m# seem to swallow it and we should be failing anyway...\u001B[39;00m\n\u001B[1;32m     43\u001B[0m     sys\u001B[38;5;241m.\u001B[39mstderr\u001B[38;5;241m.\u001B[39mwrite(msg \u001B[38;5;241m+\u001B[39m tb_msg)\n\u001B[0;32m---> 44\u001B[0m     \u001B[38;5;28;01mraise\u001B[39;00m \u001B[38;5;167;01mImportError\u001B[39;00m(msg)\n\u001B[1;32m     46\u001B[0m ret \u001B[38;5;241m=\u001B[39m \u001B[38;5;28mgetattr\u001B[39m(_multiarray_umath, attr_name, \u001B[38;5;28;01mNone\u001B[39;00m)\n\u001B[1;32m     47\u001B[0m \u001B[38;5;28;01mif\u001B[39;00m ret \u001B[38;5;129;01mis\u001B[39;00m \u001B[38;5;28;01mNone\u001B[39;00m:\n",
      "\u001B[0;31mImportError\u001B[0m: \nA module that was compiled using NumPy 1.x cannot be run in\nNumPy 2.1.3 as it may crash. To support both 1.x and 2.x\nversions of NumPy, modules must be compiled with NumPy 2.0.\nSome module may need to rebuild instead e.g. with 'pybind11>=2.12'.\n\nIf you are a user of the module, the easiest solution will be to\ndowngrade to 'numpy<2' or try to upgrade the affected module.\nWe expect that some modules will need time to support NumPy 2.\n\n"
     ]
    }
   ],
   "source": [
    "import pandas as pd\n",
    "import re"
   ]
  },
  {
   "cell_type": "code",
   "outputs": [],
   "source": [
    "df = pd.read_csv('data/raw/Scats Data October 2006.csv', skiprows=1)"
   ],
   "metadata": {
    "collapsed": false,
    "ExecuteTime": {
     "end_time": "2025-05-19T02:40:15.213294Z",
     "start_time": "2025-05-19T02:40:15.174281Z"
    }
   },
   "id": "bb37c1ae6e67200e",
   "execution_count": 2
  },
  {
   "cell_type": "code",
   "outputs": [
    {
     "name": "stdout",
     "output_type": "stream",
     "text": [
      "['SCATS Number', 'Location', 'CD_MELWAY', 'NB_LATITUDE', 'NB_LONGITUDE', 'HF VicRoads Internal', 'VR Internal Stat', 'VR Internal Loc', 'NB_TYPE_SURVEY', 'Date', 'V00', 'V01', 'V02', 'V03', 'V04', 'V05', 'V06', 'V07', 'V08', 'V09', 'V10', 'V11', 'V12', 'V13', 'V14', 'V15', 'V16', 'V17', 'V18', 'V19', 'V20', 'V21', 'V22', 'V23', 'V24', 'V25', 'V26', 'V27', 'V28', 'V29', 'V30', 'V31', 'V32', 'V33', 'V34', 'V35', 'V36', 'V37', 'V38', 'V39', 'V40', 'V41', 'V42', 'V43', 'V44', 'V45', 'V46', 'V47', 'V48', 'V49', 'V50', 'V51', 'V52', 'V53', 'V54', 'V55', 'V56', 'V57', 'V58', 'V59', 'V60', 'V61', 'V62', 'V63', 'V64', 'V65', 'V66', 'V67', 'V68', 'V69', 'V70', 'V71', 'V72', 'V73', 'V74', 'V75', 'V76', 'V77', 'V78', 'V79', 'V80', 'V81', 'V82', 'V83', 'V84', 'V85', 'V86', 'V87', 'V88', 'V89', 'V90', 'V91', 'V92', 'V93', 'V94', 'V95', 'Unnamed: 106', 'Unnamed: 107', 'Unnamed: 108']\n"
     ]
    }
   ],
   "source": [
    "print(df.columns.tolist())\n"
   ],
   "metadata": {
    "collapsed": false,
    "ExecuteTime": {
     "end_time": "2025-05-19T02:40:15.219200Z",
     "start_time": "2025-05-19T02:40:15.214241Z"
    }
   },
   "id": "9a3b88bc8ca9583a",
   "execution_count": 3
  },
  {
   "cell_type": "code",
   "outputs": [
    {
     "data": {
      "text/plain": "   SCATS Number                         Location CD_MELWAY  NB_LATITUDE  \\\n0           970  WARRIGAL_RD N of HIGH STREET_RD   060 G10    -37.86703   \n1           970  WARRIGAL_RD N of HIGH STREET_RD   060 G10    -37.86703   \n2           970  WARRIGAL_RD N of HIGH STREET_RD   060 G10    -37.86703   \n3           970  WARRIGAL_RD N of HIGH STREET_RD   060 G10    -37.86703   \n4           970  WARRIGAL_RD N of HIGH STREET_RD   060 G10    -37.86703   \n\n   NB_LONGITUDE  HF VicRoads Internal  VR Internal Stat  VR Internal Loc  \\\n0     145.09159                   249               182                1   \n1     145.09159                   249               182                1   \n2     145.09159                   249               182                1   \n3     145.09159                   249               182                1   \n4     145.09159                   249               182                1   \n\n   NB_TYPE_SURVEY       Date  ...  V89  V90  V91  V92  V93  V94  V95  \\\n0               1  1/10/2006  ...   66   81   50   59   47   29   34   \n1               1  2/10/2006  ...  114   80   60   62   48   44   26   \n2               1  3/10/2006  ...   86   93   90   73   57   29   40   \n3               1  4/10/2006  ...  101  113   90   78   66   52   44   \n4               1  5/10/2006  ...  113   99   91   61   55   49   36   \n\n   Unnamed: 106  Unnamed: 107  Unnamed: 108  \n0           NaN           NaN           NaN  \n1           NaN           NaN           NaN  \n2           NaN           NaN           NaN  \n3           NaN           NaN           NaN  \n4           NaN           NaN           NaN  \n\n[5 rows x 109 columns]",
      "text/html": "<div>\n<style scoped>\n    .dataframe tbody tr th:only-of-type {\n        vertical-align: middle;\n    }\n\n    .dataframe tbody tr th {\n        vertical-align: top;\n    }\n\n    .dataframe thead th {\n        text-align: right;\n    }\n</style>\n<table border=\"1\" class=\"dataframe\">\n  <thead>\n    <tr style=\"text-align: right;\">\n      <th></th>\n      <th>SCATS Number</th>\n      <th>Location</th>\n      <th>CD_MELWAY</th>\n      <th>NB_LATITUDE</th>\n      <th>NB_LONGITUDE</th>\n      <th>HF VicRoads Internal</th>\n      <th>VR Internal Stat</th>\n      <th>VR Internal Loc</th>\n      <th>NB_TYPE_SURVEY</th>\n      <th>Date</th>\n      <th>...</th>\n      <th>V89</th>\n      <th>V90</th>\n      <th>V91</th>\n      <th>V92</th>\n      <th>V93</th>\n      <th>V94</th>\n      <th>V95</th>\n      <th>Unnamed: 106</th>\n      <th>Unnamed: 107</th>\n      <th>Unnamed: 108</th>\n    </tr>\n  </thead>\n  <tbody>\n    <tr>\n      <th>0</th>\n      <td>970</td>\n      <td>WARRIGAL_RD N of HIGH STREET_RD</td>\n      <td>060 G10</td>\n      <td>-37.86703</td>\n      <td>145.09159</td>\n      <td>249</td>\n      <td>182</td>\n      <td>1</td>\n      <td>1</td>\n      <td>1/10/2006</td>\n      <td>...</td>\n      <td>66</td>\n      <td>81</td>\n      <td>50</td>\n      <td>59</td>\n      <td>47</td>\n      <td>29</td>\n      <td>34</td>\n      <td>NaN</td>\n      <td>NaN</td>\n      <td>NaN</td>\n    </tr>\n    <tr>\n      <th>1</th>\n      <td>970</td>\n      <td>WARRIGAL_RD N of HIGH STREET_RD</td>\n      <td>060 G10</td>\n      <td>-37.86703</td>\n      <td>145.09159</td>\n      <td>249</td>\n      <td>182</td>\n      <td>1</td>\n      <td>1</td>\n      <td>2/10/2006</td>\n      <td>...</td>\n      <td>114</td>\n      <td>80</td>\n      <td>60</td>\n      <td>62</td>\n      <td>48</td>\n      <td>44</td>\n      <td>26</td>\n      <td>NaN</td>\n      <td>NaN</td>\n      <td>NaN</td>\n    </tr>\n    <tr>\n      <th>2</th>\n      <td>970</td>\n      <td>WARRIGAL_RD N of HIGH STREET_RD</td>\n      <td>060 G10</td>\n      <td>-37.86703</td>\n      <td>145.09159</td>\n      <td>249</td>\n      <td>182</td>\n      <td>1</td>\n      <td>1</td>\n      <td>3/10/2006</td>\n      <td>...</td>\n      <td>86</td>\n      <td>93</td>\n      <td>90</td>\n      <td>73</td>\n      <td>57</td>\n      <td>29</td>\n      <td>40</td>\n      <td>NaN</td>\n      <td>NaN</td>\n      <td>NaN</td>\n    </tr>\n    <tr>\n      <th>3</th>\n      <td>970</td>\n      <td>WARRIGAL_RD N of HIGH STREET_RD</td>\n      <td>060 G10</td>\n      <td>-37.86703</td>\n      <td>145.09159</td>\n      <td>249</td>\n      <td>182</td>\n      <td>1</td>\n      <td>1</td>\n      <td>4/10/2006</td>\n      <td>...</td>\n      <td>101</td>\n      <td>113</td>\n      <td>90</td>\n      <td>78</td>\n      <td>66</td>\n      <td>52</td>\n      <td>44</td>\n      <td>NaN</td>\n      <td>NaN</td>\n      <td>NaN</td>\n    </tr>\n    <tr>\n      <th>4</th>\n      <td>970</td>\n      <td>WARRIGAL_RD N of HIGH STREET_RD</td>\n      <td>060 G10</td>\n      <td>-37.86703</td>\n      <td>145.09159</td>\n      <td>249</td>\n      <td>182</td>\n      <td>1</td>\n      <td>1</td>\n      <td>5/10/2006</td>\n      <td>...</td>\n      <td>113</td>\n      <td>99</td>\n      <td>91</td>\n      <td>61</td>\n      <td>55</td>\n      <td>49</td>\n      <td>36</td>\n      <td>NaN</td>\n      <td>NaN</td>\n      <td>NaN</td>\n    </tr>\n  </tbody>\n</table>\n<p>5 rows × 109 columns</p>\n</div>"
     },
     "execution_count": 4,
     "metadata": {},
     "output_type": "execute_result"
    }
   ],
   "source": [
    "df.head() "
   ],
   "metadata": {
    "collapsed": false,
    "ExecuteTime": {
     "end_time": "2025-05-19T02:40:15.235057Z",
     "start_time": "2025-05-19T02:40:15.224102Z"
    }
   },
   "id": "9b4857c9e47dd749",
   "execution_count": 4
  },
  {
   "cell_type": "code",
   "outputs": [],
   "source": [
    "df_cleaned = df.drop(columns=[col for col in df.columns if \"Unnamed\" in col])"
   ],
   "metadata": {
    "collapsed": false,
    "ExecuteTime": {
     "end_time": "2025-05-19T02:40:15.252712Z",
     "start_time": "2025-05-19T02:40:15.234825Z"
    }
   },
   "id": "6a730c3537ff78de",
   "execution_count": 5
  },
  {
   "cell_type": "code",
   "outputs": [],
   "source": [
    "id_cols = ['SCATS Number', 'Location', 'Date']\n",
    "volume_cols = [col for col in df_cleaned.columns if re.fullmatch(r'V\\d+', col)]"
   ],
   "metadata": {
    "collapsed": false,
    "ExecuteTime": {
     "end_time": "2025-05-19T02:40:15.253303Z",
     "start_time": "2025-05-19T02:40:15.238212Z"
    }
   },
   "id": "a825e5c8ca731564",
   "execution_count": 6
  },
  {
   "cell_type": "code",
   "outputs": [],
   "source": [
    "df_long = df_cleaned.melt(id_vars=id_cols, value_vars=volume_cols,\n",
    "                          var_name='Interval', value_name='Volume')"
   ],
   "metadata": {
    "collapsed": false,
    "ExecuteTime": {
     "end_time": "2025-05-19T02:40:15.357028Z",
     "start_time": "2025-05-19T02:40:15.241779Z"
    }
   },
   "id": "dbfe7408de651f68",
   "execution_count": 7
  },
  {
   "cell_type": "code",
   "outputs": [],
   "source": [
    "def interval_to_time(interval):\n",
    "    index = int(interval[1:])   \n",
    "    minutes = index * 15\n",
    "    hour = minutes // 60\n",
    "    minute = minutes % 60\n",
    "    return f\"{hour:02d}:{minute:02d}\"\n",
    "\n",
    "df_long['Time'] = df_long['Interval'].apply(interval_to_time)"
   ],
   "metadata": {
    "collapsed": false,
    "ExecuteTime": {
     "end_time": "2025-05-19T02:40:15.575359Z",
     "start_time": "2025-05-19T02:40:15.274566Z"
    }
   },
   "id": "fb8e91c68b41541e",
   "execution_count": 8
  },
  {
   "cell_type": "code",
   "outputs": [
    {
     "data": {
      "text/plain": "   SCATS Number                         Location       Date Interval  Volume  \\\n0           970  WARRIGAL_RD N of HIGH STREET_RD  1/10/2006      V00      86   \n1           970  WARRIGAL_RD N of HIGH STREET_RD  2/10/2006      V00      32   \n2           970  WARRIGAL_RD N of HIGH STREET_RD  3/10/2006      V00      26   \n3           970  WARRIGAL_RD N of HIGH STREET_RD  4/10/2006      V00      32   \n4           970  WARRIGAL_RD N of HIGH STREET_RD  5/10/2006      V00      40   \n\n    Time  \n0  00:00  \n1  00:00  \n2  00:00  \n3  00:00  \n4  00:00  ",
      "text/html": "<div>\n<style scoped>\n    .dataframe tbody tr th:only-of-type {\n        vertical-align: middle;\n    }\n\n    .dataframe tbody tr th {\n        vertical-align: top;\n    }\n\n    .dataframe thead th {\n        text-align: right;\n    }\n</style>\n<table border=\"1\" class=\"dataframe\">\n  <thead>\n    <tr style=\"text-align: right;\">\n      <th></th>\n      <th>SCATS Number</th>\n      <th>Location</th>\n      <th>Date</th>\n      <th>Interval</th>\n      <th>Volume</th>\n      <th>Time</th>\n    </tr>\n  </thead>\n  <tbody>\n    <tr>\n      <th>0</th>\n      <td>970</td>\n      <td>WARRIGAL_RD N of HIGH STREET_RD</td>\n      <td>1/10/2006</td>\n      <td>V00</td>\n      <td>86</td>\n      <td>00:00</td>\n    </tr>\n    <tr>\n      <th>1</th>\n      <td>970</td>\n      <td>WARRIGAL_RD N of HIGH STREET_RD</td>\n      <td>2/10/2006</td>\n      <td>V00</td>\n      <td>32</td>\n      <td>00:00</td>\n    </tr>\n    <tr>\n      <th>2</th>\n      <td>970</td>\n      <td>WARRIGAL_RD N of HIGH STREET_RD</td>\n      <td>3/10/2006</td>\n      <td>V00</td>\n      <td>26</td>\n      <td>00:00</td>\n    </tr>\n    <tr>\n      <th>3</th>\n      <td>970</td>\n      <td>WARRIGAL_RD N of HIGH STREET_RD</td>\n      <td>4/10/2006</td>\n      <td>V00</td>\n      <td>32</td>\n      <td>00:00</td>\n    </tr>\n    <tr>\n      <th>4</th>\n      <td>970</td>\n      <td>WARRIGAL_RD N of HIGH STREET_RD</td>\n      <td>5/10/2006</td>\n      <td>V00</td>\n      <td>40</td>\n      <td>00:00</td>\n    </tr>\n  </tbody>\n</table>\n</div>"
     },
     "execution_count": 9,
     "metadata": {},
     "output_type": "execute_result"
    }
   ],
   "source": [
    "df_long.head()"
   ],
   "metadata": {
    "collapsed": false,
    "ExecuteTime": {
     "end_time": "2025-05-19T02:40:15.584829Z",
     "start_time": "2025-05-19T02:40:15.579069Z"
    }
   },
   "id": "e17a4722574351f9",
   "execution_count": 9
  },
  {
   "cell_type": "code",
   "outputs": [],
   "source": [
    "# Bước 6: Tạo datetime chuẩn\n",
    "df_long['Datetime'] = pd.to_datetime(df_long['Date'] + ' ' + df_long['Time'], dayfirst=True)\n",
    "\n",
    "# Bước 7: Đổi tên cột cho dễ xử lý\n",
    "df_long = df_long.rename(columns={'SCATS Number': 'SiteID'})\n",
    "\n",
    "# Bước 8: Loại bỏ dòng có Volume bị thiếu\n",
    "df_long = df_long.dropna(subset=['Volume'])\n",
    "\n",
    "# Bước 9: Sắp xếp và reset lại index\n",
    "df_long = df_long.sort_values(by=['SiteID', 'Datetime']).reset_index(drop=True)"
   ],
   "metadata": {
    "collapsed": false,
    "ExecuteTime": {
     "end_time": "2025-05-19T02:40:15.780420Z",
     "start_time": "2025-05-19T02:40:15.585028Z"
    }
   },
   "id": "a070a06eff181023",
   "execution_count": 10
  },
  {
   "cell_type": "code",
   "outputs": [
    {
     "data": {
      "text/plain": "   SiteID                         Location       Date Interval  Volume   Time  \\\n0     970  WARRIGAL_RD N of HIGH STREET_RD  1/10/2006      V00      86  00:00   \n1     970  HIGH STREET_RD E of WARRIGAL_RD  1/10/2006      V00      37  00:00   \n2     970  WARRIGAL_RD S of HIGH STREET_RD  1/10/2006      V00      92  00:00   \n3     970  HIGH STREET_RD W of WARRIGAL_RD  1/10/2006      V00      47  00:00   \n4     970  WARRIGAL_RD N of HIGH STREET_RD  1/10/2006      V01      83  00:15   \n\n             Datetime  \n0 2006-10-01 00:00:00  \n1 2006-10-01 00:00:00  \n2 2006-10-01 00:00:00  \n3 2006-10-01 00:00:00  \n4 2006-10-01 00:15:00  ",
      "text/html": "<div>\n<style scoped>\n    .dataframe tbody tr th:only-of-type {\n        vertical-align: middle;\n    }\n\n    .dataframe tbody tr th {\n        vertical-align: top;\n    }\n\n    .dataframe thead th {\n        text-align: right;\n    }\n</style>\n<table border=\"1\" class=\"dataframe\">\n  <thead>\n    <tr style=\"text-align: right;\">\n      <th></th>\n      <th>SiteID</th>\n      <th>Location</th>\n      <th>Date</th>\n      <th>Interval</th>\n      <th>Volume</th>\n      <th>Time</th>\n      <th>Datetime</th>\n    </tr>\n  </thead>\n  <tbody>\n    <tr>\n      <th>0</th>\n      <td>970</td>\n      <td>WARRIGAL_RD N of HIGH STREET_RD</td>\n      <td>1/10/2006</td>\n      <td>V00</td>\n      <td>86</td>\n      <td>00:00</td>\n      <td>2006-10-01 00:00:00</td>\n    </tr>\n    <tr>\n      <th>1</th>\n      <td>970</td>\n      <td>HIGH STREET_RD E of WARRIGAL_RD</td>\n      <td>1/10/2006</td>\n      <td>V00</td>\n      <td>37</td>\n      <td>00:00</td>\n      <td>2006-10-01 00:00:00</td>\n    </tr>\n    <tr>\n      <th>2</th>\n      <td>970</td>\n      <td>WARRIGAL_RD S of HIGH STREET_RD</td>\n      <td>1/10/2006</td>\n      <td>V00</td>\n      <td>92</td>\n      <td>00:00</td>\n      <td>2006-10-01 00:00:00</td>\n    </tr>\n    <tr>\n      <th>3</th>\n      <td>970</td>\n      <td>HIGH STREET_RD W of WARRIGAL_RD</td>\n      <td>1/10/2006</td>\n      <td>V00</td>\n      <td>47</td>\n      <td>00:00</td>\n      <td>2006-10-01 00:00:00</td>\n    </tr>\n    <tr>\n      <th>4</th>\n      <td>970</td>\n      <td>WARRIGAL_RD N of HIGH STREET_RD</td>\n      <td>1/10/2006</td>\n      <td>V01</td>\n      <td>83</td>\n      <td>00:15</td>\n      <td>2006-10-01 00:15:00</td>\n    </tr>\n  </tbody>\n</table>\n</div>"
     },
     "execution_count": 11,
     "metadata": {},
     "output_type": "execute_result"
    }
   ],
   "source": [
    "df_long.head()"
   ],
   "metadata": {
    "collapsed": false,
    "ExecuteTime": {
     "end_time": "2025-05-19T02:40:15.789658Z",
     "start_time": "2025-05-19T02:40:15.784999Z"
    }
   },
   "id": "ed2270d897e12097",
   "execution_count": 11
  },
  {
   "cell_type": "code",
   "outputs": [],
   "source": [
    "df_long.to_csv(\"data/processed/cleaned_scats_data.csv\", index=False)"
   ],
   "metadata": {
    "collapsed": false,
    "ExecuteTime": {
     "end_time": "2025-05-19T02:40:17.143978Z",
     "start_time": "2025-05-19T02:40:15.788072Z"
    }
   },
   "id": "2c578459533d46e6",
   "execution_count": 12
  }
 ],
 "metadata": {
  "kernelspec": {
   "display_name": "Python 3",
   "language": "python",
   "name": "python3"
  },
  "language_info": {
   "codemirror_mode": {
    "name": "ipython",
    "version": 2
   },
   "file_extension": ".py",
   "mimetype": "text/x-python",
   "name": "python",
   "nbconvert_exporter": "python",
   "pygments_lexer": "ipython2",
   "version": "2.7.6"
  }
 },
 "nbformat": 4,
 "nbformat_minor": 5
}
