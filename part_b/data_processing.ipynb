{
 "cells": [
  {
   "cell_type": "code",
   "execution_count": 13,
   "id": "initial_id",
   "metadata": {
    "collapsed": true,
    "ExecuteTime": {
     "end_time": "2025-05-19T03:43:03.554933Z",
     "start_time": "2025-05-19T03:43:03.548010Z"
    }
   },
   "outputs": [],
   "source": [
    "import pandas as pd\n",
    "import re"
   ]
  },
  {
   "cell_type": "code",
   "outputs": [],
   "source": [
    "df = pd.read_csv('data/raw/Scats Data October 2006.csv', skiprows=1)"
   ],
   "metadata": {
    "collapsed": false,
    "ExecuteTime": {
     "end_time": "2025-05-19T03:43:03.608519Z",
     "start_time": "2025-05-19T03:43:03.561139Z"
    }
   },
   "id": "bb37c1ae6e67200e",
   "execution_count": 14
  },
  {
   "cell_type": "code",
   "outputs": [
    {
     "name": "stdout",
     "output_type": "stream",
     "text": [
      "['SCATS Number', 'Location', 'CD_MELWAY', 'NB_LATITUDE', 'NB_LONGITUDE', 'HF VicRoads Internal', 'VR Internal Stat', 'VR Internal Loc', 'NB_TYPE_SURVEY', 'Date', 'V00', 'V01', 'V02', 'V03', 'V04', 'V05', 'V06', 'V07', 'V08', 'V09', 'V10', 'V11', 'V12', 'V13', 'V14', 'V15', 'V16', 'V17', 'V18', 'V19', 'V20', 'V21', 'V22', 'V23', 'V24', 'V25', 'V26', 'V27', 'V28', 'V29', 'V30', 'V31', 'V32', 'V33', 'V34', 'V35', 'V36', 'V37', 'V38', 'V39', 'V40', 'V41', 'V42', 'V43', 'V44', 'V45', 'V46', 'V47', 'V48', 'V49', 'V50', 'V51', 'V52', 'V53', 'V54', 'V55', 'V56', 'V57', 'V58', 'V59', 'V60', 'V61', 'V62', 'V63', 'V64', 'V65', 'V66', 'V67', 'V68', 'V69', 'V70', 'V71', 'V72', 'V73', 'V74', 'V75', 'V76', 'V77', 'V78', 'V79', 'V80', 'V81', 'V82', 'V83', 'V84', 'V85', 'V86', 'V87', 'V88', 'V89', 'V90', 'V91', 'V92', 'V93', 'V94', 'V95', 'Unnamed: 106', 'Unnamed: 107', 'Unnamed: 108']\n"
     ]
    }
   ],
   "source": [
    "print(df.columns.tolist())\n"
   ],
   "metadata": {
    "collapsed": false,
    "ExecuteTime": {
     "end_time": "2025-05-19T03:43:03.634327Z",
     "start_time": "2025-05-19T03:43:03.608303Z"
    }
   },
   "id": "9a3b88bc8ca9583a",
   "execution_count": 15
  },
  {
   "cell_type": "code",
   "outputs": [
    {
     "data": {
      "text/plain": "   SCATS Number                         Location CD_MELWAY  NB_LATITUDE  \\\n0           970  WARRIGAL_RD N of HIGH STREET_RD   060 G10    -37.86703   \n1           970  WARRIGAL_RD N of HIGH STREET_RD   060 G10    -37.86703   \n2           970  WARRIGAL_RD N of HIGH STREET_RD   060 G10    -37.86703   \n3           970  WARRIGAL_RD N of HIGH STREET_RD   060 G10    -37.86703   \n4           970  WARRIGAL_RD N of HIGH STREET_RD   060 G10    -37.86703   \n\n   NB_LONGITUDE  HF VicRoads Internal  VR Internal Stat  VR Internal Loc  \\\n0     145.09159                   249               182                1   \n1     145.09159                   249               182                1   \n2     145.09159                   249               182                1   \n3     145.09159                   249               182                1   \n4     145.09159                   249               182                1   \n\n   NB_TYPE_SURVEY       Date  ...  V89  V90  V91  V92  V93  V94  V95  \\\n0               1  1/10/2006  ...   66   81   50   59   47   29   34   \n1               1  2/10/2006  ...  114   80   60   62   48   44   26   \n2               1  3/10/2006  ...   86   93   90   73   57   29   40   \n3               1  4/10/2006  ...  101  113   90   78   66   52   44   \n4               1  5/10/2006  ...  113   99   91   61   55   49   36   \n\n   Unnamed: 106  Unnamed: 107  Unnamed: 108  \n0           NaN           NaN           NaN  \n1           NaN           NaN           NaN  \n2           NaN           NaN           NaN  \n3           NaN           NaN           NaN  \n4           NaN           NaN           NaN  \n\n[5 rows x 109 columns]",
      "text/html": "<div>\n<style scoped>\n    .dataframe tbody tr th:only-of-type {\n        vertical-align: middle;\n    }\n\n    .dataframe tbody tr th {\n        vertical-align: top;\n    }\n\n    .dataframe thead th {\n        text-align: right;\n    }\n</style>\n<table border=\"1\" class=\"dataframe\">\n  <thead>\n    <tr style=\"text-align: right;\">\n      <th></th>\n      <th>SCATS Number</th>\n      <th>Location</th>\n      <th>CD_MELWAY</th>\n      <th>NB_LATITUDE</th>\n      <th>NB_LONGITUDE</th>\n      <th>HF VicRoads Internal</th>\n      <th>VR Internal Stat</th>\n      <th>VR Internal Loc</th>\n      <th>NB_TYPE_SURVEY</th>\n      <th>Date</th>\n      <th>...</th>\n      <th>V89</th>\n      <th>V90</th>\n      <th>V91</th>\n      <th>V92</th>\n      <th>V93</th>\n      <th>V94</th>\n      <th>V95</th>\n      <th>Unnamed: 106</th>\n      <th>Unnamed: 107</th>\n      <th>Unnamed: 108</th>\n    </tr>\n  </thead>\n  <tbody>\n    <tr>\n      <th>0</th>\n      <td>970</td>\n      <td>WARRIGAL_RD N of HIGH STREET_RD</td>\n      <td>060 G10</td>\n      <td>-37.86703</td>\n      <td>145.09159</td>\n      <td>249</td>\n      <td>182</td>\n      <td>1</td>\n      <td>1</td>\n      <td>1/10/2006</td>\n      <td>...</td>\n      <td>66</td>\n      <td>81</td>\n      <td>50</td>\n      <td>59</td>\n      <td>47</td>\n      <td>29</td>\n      <td>34</td>\n      <td>NaN</td>\n      <td>NaN</td>\n      <td>NaN</td>\n    </tr>\n    <tr>\n      <th>1</th>\n      <td>970</td>\n      <td>WARRIGAL_RD N of HIGH STREET_RD</td>\n      <td>060 G10</td>\n      <td>-37.86703</td>\n      <td>145.09159</td>\n      <td>249</td>\n      <td>182</td>\n      <td>1</td>\n      <td>1</td>\n      <td>2/10/2006</td>\n      <td>...</td>\n      <td>114</td>\n      <td>80</td>\n      <td>60</td>\n      <td>62</td>\n      <td>48</td>\n      <td>44</td>\n      <td>26</td>\n      <td>NaN</td>\n      <td>NaN</td>\n      <td>NaN</td>\n    </tr>\n    <tr>\n      <th>2</th>\n      <td>970</td>\n      <td>WARRIGAL_RD N of HIGH STREET_RD</td>\n      <td>060 G10</td>\n      <td>-37.86703</td>\n      <td>145.09159</td>\n      <td>249</td>\n      <td>182</td>\n      <td>1</td>\n      <td>1</td>\n      <td>3/10/2006</td>\n      <td>...</td>\n      <td>86</td>\n      <td>93</td>\n      <td>90</td>\n      <td>73</td>\n      <td>57</td>\n      <td>29</td>\n      <td>40</td>\n      <td>NaN</td>\n      <td>NaN</td>\n      <td>NaN</td>\n    </tr>\n    <tr>\n      <th>3</th>\n      <td>970</td>\n      <td>WARRIGAL_RD N of HIGH STREET_RD</td>\n      <td>060 G10</td>\n      <td>-37.86703</td>\n      <td>145.09159</td>\n      <td>249</td>\n      <td>182</td>\n      <td>1</td>\n      <td>1</td>\n      <td>4/10/2006</td>\n      <td>...</td>\n      <td>101</td>\n      <td>113</td>\n      <td>90</td>\n      <td>78</td>\n      <td>66</td>\n      <td>52</td>\n      <td>44</td>\n      <td>NaN</td>\n      <td>NaN</td>\n      <td>NaN</td>\n    </tr>\n    <tr>\n      <th>4</th>\n      <td>970</td>\n      <td>WARRIGAL_RD N of HIGH STREET_RD</td>\n      <td>060 G10</td>\n      <td>-37.86703</td>\n      <td>145.09159</td>\n      <td>249</td>\n      <td>182</td>\n      <td>1</td>\n      <td>1</td>\n      <td>5/10/2006</td>\n      <td>...</td>\n      <td>113</td>\n      <td>99</td>\n      <td>91</td>\n      <td>61</td>\n      <td>55</td>\n      <td>49</td>\n      <td>36</td>\n      <td>NaN</td>\n      <td>NaN</td>\n      <td>NaN</td>\n    </tr>\n  </tbody>\n</table>\n<p>5 rows × 109 columns</p>\n</div>"
     },
     "execution_count": 16,
     "metadata": {},
     "output_type": "execute_result"
    }
   ],
   "source": [
    "df.head() "
   ],
   "metadata": {
    "collapsed": false,
    "ExecuteTime": {
     "end_time": "2025-05-19T03:43:03.635314Z",
     "start_time": "2025-05-19T03:43:03.611149Z"
    }
   },
   "id": "9b4857c9e47dd749",
   "execution_count": 16
  },
  {
   "cell_type": "code",
   "outputs": [],
   "source": [
    "df_cleaned = df.drop(columns=[col for col in df.columns if \"Unnamed\" in col])"
   ],
   "metadata": {
    "collapsed": false,
    "ExecuteTime": {
     "end_time": "2025-05-19T03:43:03.635604Z",
     "start_time": "2025-05-19T03:43:03.626598Z"
    }
   },
   "id": "6a730c3537ff78de",
   "execution_count": 17
  },
  {
   "cell_type": "code",
   "outputs": [],
   "source": [
    "id_cols = ['SCATS Number', 'Location', 'Date']\n",
    "volume_cols = [col for col in df_cleaned.columns if re.fullmatch(r'V\\d+', col)]"
   ],
   "metadata": {
    "collapsed": false,
    "ExecuteTime": {
     "end_time": "2025-05-19T03:43:03.706572Z",
     "start_time": "2025-05-19T03:43:03.630019Z"
    }
   },
   "id": "a825e5c8ca731564",
   "execution_count": 18
  },
  {
   "cell_type": "code",
   "outputs": [],
   "source": [
    "df_long = df_cleaned.melt(id_vars=id_cols, value_vars=volume_cols,\n",
    "                          var_name='Interval', value_name='Volume')"
   ],
   "metadata": {
    "collapsed": false,
    "ExecuteTime": {
     "end_time": "2025-05-19T03:43:03.720415Z",
     "start_time": "2025-05-19T03:43:03.633724Z"
    }
   },
   "id": "dbfe7408de651f68",
   "execution_count": 19
  },
  {
   "cell_type": "code",
   "outputs": [],
   "source": [
    "def interval_to_time(interval):\n",
    "    index = int(interval[1:])   \n",
    "    minutes = index * 15\n",
    "    hour = minutes // 60\n",
    "    minute = minutes % 60\n",
    "    return f\"{hour:02d}:{minute:02d}\"\n",
    "\n",
    "df_long['Time'] = df_long['Interval'].apply(interval_to_time)"
   ],
   "metadata": {
    "collapsed": false,
    "ExecuteTime": {
     "end_time": "2025-05-19T03:43:03.971913Z",
     "start_time": "2025-05-19T03:43:03.660105Z"
    }
   },
   "id": "fb8e91c68b41541e",
   "execution_count": 20
  },
  {
   "cell_type": "code",
   "outputs": [
    {
     "data": {
      "text/plain": "   SCATS Number                         Location       Date Interval  Volume  \\\n0           970  WARRIGAL_RD N of HIGH STREET_RD  1/10/2006      V00      86   \n1           970  WARRIGAL_RD N of HIGH STREET_RD  2/10/2006      V00      32   \n2           970  WARRIGAL_RD N of HIGH STREET_RD  3/10/2006      V00      26   \n3           970  WARRIGAL_RD N of HIGH STREET_RD  4/10/2006      V00      32   \n4           970  WARRIGAL_RD N of HIGH STREET_RD  5/10/2006      V00      40   \n\n    Time  \n0  00:00  \n1  00:00  \n2  00:00  \n3  00:00  \n4  00:00  ",
      "text/html": "<div>\n<style scoped>\n    .dataframe tbody tr th:only-of-type {\n        vertical-align: middle;\n    }\n\n    .dataframe tbody tr th {\n        vertical-align: top;\n    }\n\n    .dataframe thead th {\n        text-align: right;\n    }\n</style>\n<table border=\"1\" class=\"dataframe\">\n  <thead>\n    <tr style=\"text-align: right;\">\n      <th></th>\n      <th>SCATS Number</th>\n      <th>Location</th>\n      <th>Date</th>\n      <th>Interval</th>\n      <th>Volume</th>\n      <th>Time</th>\n    </tr>\n  </thead>\n  <tbody>\n    <tr>\n      <th>0</th>\n      <td>970</td>\n      <td>WARRIGAL_RD N of HIGH STREET_RD</td>\n      <td>1/10/2006</td>\n      <td>V00</td>\n      <td>86</td>\n      <td>00:00</td>\n    </tr>\n    <tr>\n      <th>1</th>\n      <td>970</td>\n      <td>WARRIGAL_RD N of HIGH STREET_RD</td>\n      <td>2/10/2006</td>\n      <td>V00</td>\n      <td>32</td>\n      <td>00:00</td>\n    </tr>\n    <tr>\n      <th>2</th>\n      <td>970</td>\n      <td>WARRIGAL_RD N of HIGH STREET_RD</td>\n      <td>3/10/2006</td>\n      <td>V00</td>\n      <td>26</td>\n      <td>00:00</td>\n    </tr>\n    <tr>\n      <th>3</th>\n      <td>970</td>\n      <td>WARRIGAL_RD N of HIGH STREET_RD</td>\n      <td>4/10/2006</td>\n      <td>V00</td>\n      <td>32</td>\n      <td>00:00</td>\n    </tr>\n    <tr>\n      <th>4</th>\n      <td>970</td>\n      <td>WARRIGAL_RD N of HIGH STREET_RD</td>\n      <td>5/10/2006</td>\n      <td>V00</td>\n      <td>40</td>\n      <td>00:00</td>\n    </tr>\n  </tbody>\n</table>\n</div>"
     },
     "execution_count": 21,
     "metadata": {},
     "output_type": "execute_result"
    }
   ],
   "source": [
    "df_long.head()"
   ],
   "metadata": {
    "collapsed": false,
    "ExecuteTime": {
     "end_time": "2025-05-19T03:43:03.973280Z",
     "start_time": "2025-05-19T03:43:03.970386Z"
    }
   },
   "id": "e17a4722574351f9",
   "execution_count": 21
  },
  {
   "cell_type": "code",
   "outputs": [],
   "source": [
    "df_long['Datetime'] = pd.to_datetime(df_long['Date'] + ' ' + df_long['Time'], dayfirst=True)\n",
    "\n",
    "df_long = df_long.rename(columns={'SCATS Number': 'SiteID'})\n",
    "\n",
    "df_long = df_long.dropna(subset=['Volume'])\n",
    "\n",
    "df_long = df_long.sort_values(by=['SiteID', 'Datetime']).reset_index(drop=True)"
   ],
   "metadata": {
    "collapsed": false,
    "ExecuteTime": {
     "end_time": "2025-05-19T03:43:04.179427Z",
     "start_time": "2025-05-19T03:43:03.974562Z"
    }
   },
   "id": "a070a06eff181023",
   "execution_count": 22
  },
  {
   "cell_type": "code",
   "outputs": [
    {
     "data": {
      "text/plain": "   SiteID                         Location       Date Interval  Volume   Time  \\\n0     970  WARRIGAL_RD N of HIGH STREET_RD  1/10/2006      V00      86  00:00   \n1     970  HIGH STREET_RD E of WARRIGAL_RD  1/10/2006      V00      37  00:00   \n2     970  WARRIGAL_RD S of HIGH STREET_RD  1/10/2006      V00      92  00:00   \n3     970  HIGH STREET_RD W of WARRIGAL_RD  1/10/2006      V00      47  00:00   \n4     970  WARRIGAL_RD N of HIGH STREET_RD  1/10/2006      V01      83  00:15   \n\n             Datetime  \n0 2006-10-01 00:00:00  \n1 2006-10-01 00:00:00  \n2 2006-10-01 00:00:00  \n3 2006-10-01 00:00:00  \n4 2006-10-01 00:15:00  ",
      "text/html": "<div>\n<style scoped>\n    .dataframe tbody tr th:only-of-type {\n        vertical-align: middle;\n    }\n\n    .dataframe tbody tr th {\n        vertical-align: top;\n    }\n\n    .dataframe thead th {\n        text-align: right;\n    }\n</style>\n<table border=\"1\" class=\"dataframe\">\n  <thead>\n    <tr style=\"text-align: right;\">\n      <th></th>\n      <th>SiteID</th>\n      <th>Location</th>\n      <th>Date</th>\n      <th>Interval</th>\n      <th>Volume</th>\n      <th>Time</th>\n      <th>Datetime</th>\n    </tr>\n  </thead>\n  <tbody>\n    <tr>\n      <th>0</th>\n      <td>970</td>\n      <td>WARRIGAL_RD N of HIGH STREET_RD</td>\n      <td>1/10/2006</td>\n      <td>V00</td>\n      <td>86</td>\n      <td>00:00</td>\n      <td>2006-10-01 00:00:00</td>\n    </tr>\n    <tr>\n      <th>1</th>\n      <td>970</td>\n      <td>HIGH STREET_RD E of WARRIGAL_RD</td>\n      <td>1/10/2006</td>\n      <td>V00</td>\n      <td>37</td>\n      <td>00:00</td>\n      <td>2006-10-01 00:00:00</td>\n    </tr>\n    <tr>\n      <th>2</th>\n      <td>970</td>\n      <td>WARRIGAL_RD S of HIGH STREET_RD</td>\n      <td>1/10/2006</td>\n      <td>V00</td>\n      <td>92</td>\n      <td>00:00</td>\n      <td>2006-10-01 00:00:00</td>\n    </tr>\n    <tr>\n      <th>3</th>\n      <td>970</td>\n      <td>HIGH STREET_RD W of WARRIGAL_RD</td>\n      <td>1/10/2006</td>\n      <td>V00</td>\n      <td>47</td>\n      <td>00:00</td>\n      <td>2006-10-01 00:00:00</td>\n    </tr>\n    <tr>\n      <th>4</th>\n      <td>970</td>\n      <td>WARRIGAL_RD N of HIGH STREET_RD</td>\n      <td>1/10/2006</td>\n      <td>V01</td>\n      <td>83</td>\n      <td>00:15</td>\n      <td>2006-10-01 00:15:00</td>\n    </tr>\n  </tbody>\n</table>\n</div>"
     },
     "execution_count": 23,
     "metadata": {},
     "output_type": "execute_result"
    }
   ],
   "source": [
    "df_long.head()"
   ],
   "metadata": {
    "collapsed": false,
    "ExecuteTime": {
     "end_time": "2025-05-19T03:43:04.203899Z",
     "start_time": "2025-05-19T03:43:04.183267Z"
    }
   },
   "id": "ed2270d897e12097",
   "execution_count": 23
  },
  {
   "cell_type": "code",
   "outputs": [],
   "source": [
    "df_long.to_csv(\"data/processed/cleaned_scats_data.csv\", index=False)"
   ],
   "metadata": {
    "collapsed": false,
    "ExecuteTime": {
     "end_time": "2025-05-19T03:43:05.665612Z",
     "start_time": "2025-05-19T03:43:04.185639Z"
    }
   },
   "id": "2c578459533d46e6",
   "execution_count": 24
  }
 ],
 "metadata": {
  "kernelspec": {
   "display_name": "Python 3",
   "language": "python",
   "name": "python3"
  },
  "language_info": {
   "codemirror_mode": {
    "name": "ipython",
    "version": 2
   },
   "file_extension": ".py",
   "mimetype": "text/x-python",
   "name": "python",
   "nbconvert_exporter": "python",
   "pygments_lexer": "ipython2",
   "version": "2.7.6"
  }
 },
 "nbformat": 4,
 "nbformat_minor": 5
}
